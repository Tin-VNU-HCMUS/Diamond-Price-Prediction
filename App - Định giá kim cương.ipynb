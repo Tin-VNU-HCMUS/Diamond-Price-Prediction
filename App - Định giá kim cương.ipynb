{
 "cells": [
  {
   "cell_type": "code",
   "execution_count": 3,
   "id": "917cf596-7abf-4d85-8490-49e717113659",
   "metadata": {},
   "outputs": [
    {
     "name": "stdout",
     "output_type": "stream",
     "text": [
      "Overwriting app1.py\n"
     ]
    }
   ],
   "source": [
    "%%writefile app1.py\n",
    "import streamlit as st\n",
    "import numpy as np\n",
    "\n",
    "model = np.load('weight1.npz')\n",
    "x_mean = model['x_mean']\n",
    "x_std = model['x_std']\n",
    "theta = model['theta']\n",
    "\n",
    "@st.cache_resource\n",
    "def predict(carat, cut, color, clarity, depth, table, x, y, z, x_mean, x_std, theta):\n",
    "    cut_mapping = {'Fair': 0, 'Good': 1, 'Very Good': 2, 'Premium': 3, 'Ideal': 4}\n",
    "    color_mapping = {'J': 0, 'I': 1, 'H': 2, 'G': 3, 'F': 4, 'E': 5, 'D': 6}\n",
    "    clarity_mapping = {'I1': 0, 'SI2': 1, 'SI1': 2, 'VS2': 3, 'VS1': 4, 'VVS2': 5, 'VVS1': 6, 'IF': 7}\n",
    "    \n",
    "    cut = cut_mapping.get(cut, 0)\n",
    "    color = color_mapping.get(color, 0)\n",
    "    clarity = clarity_mapping.get(clarity, 0)\n",
    "    \n",
    "    input_data = np.array([[carat, cut, color, clarity, depth, table, x, y, z]], dtype='float')\n",
    "    input_data = (input_data - x_mean) / x_std\n",
    "    input_data = np.concatenate((np.array([[1.0]]), input_data), axis=1)\n",
    "    \n",
    "    prediction = input_data.dot(theta)\n",
    "    return prediction\n",
    "\n",
    "st.title('💎 DIAMOND PRICE PREDICTION 💎')\n",
    "\n",
    "st.header('Vui lòng nhập các đặc trưng của viên kim cương:')\n",
    "carat = st.number_input('Carat Weight:', min_value=0.1, max_value=10.0, value=1.0)\n",
    "cut = st.selectbox('Cut Rating:', ['Fair', 'Good', 'Very Good', 'Premium', 'Ideal'])\n",
    "color = st.selectbox('Color Rating:', ['J', 'I', 'H', 'G', 'F', 'E', 'D'])\n",
    "clarity = st.selectbox('Clarity Rating:', ['I1', 'SI2', 'SI1', 'VS2', 'VS1', 'VVS2', 'VVS1', 'IF'])\n",
    "depth = st.number_input('Diamond Depth Percentage:', min_value=0.1, max_value=100.0, value=1.0)\n",
    "table = st.number_input('Diamond Table Percentage:', min_value=0.1, max_value=100.0, value=1.0)\n",
    "x = st.number_input('Diamond Length (X) in mm:', min_value=0.1, max_value=100.0, value=1.0)\n",
    "y = st.number_input('Diamond Width (Y) in mm:', min_value=0.1, max_value=100.0, value=1.0)\n",
    "z = st.number_input('Diamond Height (Z) in mm:', min_value=0.1, max_value=100.0, value=1.0)\n",
    "\n",
    "if st.button('Predict Price'):\n",
    "    out = predict(carat, cut, color, clarity, depth, table, x, y, z, x_mean, x_std, theta)\n",
    "    st.success(f'Giá dự đoán của viên kim cương là: ${out[0,0]:.2f} USD')\n"
   ]
  },
  {
   "cell_type": "code",
   "execution_count": null,
   "id": "35832d4a-11cc-4fcf-9df8-05de16315c40",
   "metadata": {},
   "outputs": [],
   "source": []
  },
  {
   "cell_type": "code",
   "execution_count": null,
   "id": "127ed0c3-2d18-4b8d-94bb-0a2804761ad0",
   "metadata": {},
   "outputs": [],
   "source": []
  }
 ],
 "metadata": {
  "kernelspec": {
   "display_name": "Python [conda env:base] *",
   "language": "python",
   "name": "conda-base-py"
  },
  "language_info": {
   "codemirror_mode": {
    "name": "ipython",
    "version": 3
   },
   "file_extension": ".py",
   "mimetype": "text/x-python",
   "name": "python",
   "nbconvert_exporter": "python",
   "pygments_lexer": "ipython3",
   "version": "3.12.7"
  }
 },
 "nbformat": 4,
 "nbformat_minor": 5
}
